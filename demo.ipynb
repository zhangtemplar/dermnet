{
 "cells": [
  {
   "cell_type": "code",
   "execution_count": 2,
   "metadata": {},
   "outputs": [
    {
     "data": {
      "text/plain": [
       "('/Users/zhangqiang/Downloads/test.jpg',\n",
       " <httplib.HTTPMessage instance at 0x102b374d0>)"
      ]
     },
     "execution_count": 2,
     "metadata": {},
     "output_type": "execute_result"
    }
   ],
   "source": [
    "from selenium import webdriver\n",
    "from urllib import urlretrieve\n",
    "driver = webdriver.Chrome(\"/Users/zhangqiang/chromedriver\")\n",
    "driver.get(\"http://www.dermnet.com/images/Acanthosis-Nigricans/picture/23949\")\n",
    "image = driver.find_element_by_xpath('//*[@id=\"disImg\"]')\n",
    "imageLink = image.get_attribute(\"src\")\n",
    "urlretrieve(imageLink, \"/Users/zhangqiang/Downloads/test.jpg\")"
   ]
  },
  {
   "cell_type": "code",
   "execution_count": 3,
   "metadata": {
    "collapsed": true
   },
   "outputs": [],
   "source": [
    "driver.close()"
   ]
  },
  {
   "cell_type": "code",
   "execution_count": null,
   "metadata": {
    "collapsed": true
   },
   "outputs": [],
   "source": []
  }
 ],
 "metadata": {
  "kernelspec": {
   "display_name": "Python 2",
   "language": "python",
   "name": "python2"
  },
  "language_info": {
   "codemirror_mode": {
    "name": "ipython",
    "version": 2
   },
   "file_extension": ".py",
   "mimetype": "text/x-python",
   "name": "python",
   "nbconvert_exporter": "python",
   "pygments_lexer": "ipython2",
   "version": "2.7.13"
  }
 },
 "nbformat": 4,
 "nbformat_minor": 2
}
